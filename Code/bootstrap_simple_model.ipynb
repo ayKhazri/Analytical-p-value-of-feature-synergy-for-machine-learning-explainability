{
    "cells": [
        {
            "cell_type": "code",
            "execution_count": 36,
            "metadata": {},
            "outputs": [],
            "source": [
                "import pandas as pd\n",
                "import numpy as np\n",
                "import matplotlib.pyplot as plt\n",
                "import scipy.stats as st\n",
                "import shap\n",
                "from sklearn.model_selection import train_test_split\n",
                "from shap_synergy import bootsrap_nsq_syn_list, pvalue0, bootstrap_synergy_values"
            ]
        },
        {
            "attachments": {},
            "cell_type": "markdown",
            "metadata": {},
            "source": [
                "LOADING THE DATASET"
            ]
        },
        {
            "cell_type": "code",
            "execution_count": 2,
            "metadata": {},
            "outputs": [],
            "source": [
                "df = pd.read_csv('df_simple_model.csv')\n",
                "X = df[['x0','x1','x2','x3','x4']]\n",
                "y = df['f']\n",
                "\n",
                "train_X, test_X, train_y, test_y = train_test_split(X,y)"
            ]
        },
        {
            "cell_type": "markdown",
            "metadata": {},
            "source": [
                "FITTING THE XGBOOST MODEL "
            ]
        },
        {
            "cell_type": "code",
            "execution_count": 3,
            "metadata": {},
            "outputs": [
                {
                    "data": {
                        "text/plain": [
                            "XGBRegressor(base_score=0.5, booster='gbtree', colsample_bylevel=1,\n",
                            "             colsample_bynode=1, colsample_bytree=1, enable_categorical=False,\n",
                            "             gamma=0, gpu_id=-1, importance_type=None,\n",
                            "             interaction_constraints='', learning_rate=0.300000012,\n",
                            "             max_delta_step=0, max_depth=6, min_child_weight=1, missing=nan,\n",
                            "             monotone_constraints='()', n_estimators=100, n_jobs=8,\n",
                            "             num_parallel_tree=1, predictor='auto', random_state=0, reg_alpha=0,\n",
                            "             reg_lambda=1, scale_pos_weight=1, subsample=1, tree_method='exact',\n",
                            "             validate_parameters=1, verbosity=None)"
                        ]
                    },
                    "execution_count": 3,
                    "metadata": {},
                    "output_type": "execute_result"
                }
            ],
            "source": [
                "from xgboost import XGBRegressor\n",
                "\n",
                "my_model = XGBRegressor()\n",
                "\n",
                "my_model.fit(train_X, train_y, verbose=False)"
            ]
        },
        {
            "attachments": {},
            "cell_type": "markdown",
            "metadata": {},
            "source": [
                "CREATING THE EXPLAINER"
            ]
        },
        {
            "cell_type": "code",
            "execution_count": 4,
            "metadata": {},
            "outputs": [],
            "source": [
                "explainer = shap.TreeExplainer(my_model)"
            ]
        },
        {
            "attachments": {},
            "cell_type": "markdown",
            "metadata": {},
            "source": [
                "NON SQUARED SYNERGY VIZUALISATION"
            ]
        },
        {
            "attachments": {},
            "cell_type": "markdown",
            "metadata": {},
            "source": [
                "On the training dataset"
            ]
        },
        {
            "cell_type": "code",
            "execution_count": 4,
            "metadata": {},
            "outputs": [
                {
                    "ename": "NameError",
                    "evalue": "name 'train_X' is not defined",
                    "output_type": "error",
                    "traceback": [
                        "\u001b[1;31m---------------------------------------------------------------------------\u001b[0m",
                        "\u001b[1;31mNameError\u001b[0m                                 Traceback (most recent call last)",
                        "\u001b[1;32mc:\\Users\\jldup\\OneDrive\\Documents\\2A_CS\\Projet S8\\ProjetS8\\bootstrap.ipynb Cellule 10\u001b[0m in \u001b[0;36m<cell line: 2>\u001b[1;34m()\u001b[0m\n\u001b[0;32m      <a href='vscode-notebook-cell:/c%3A/Users/jldup/OneDrive/Documents/2A_CS/Projet%20S8/ProjetS8/bootstrap.ipynb#X12sZmlsZQ%3D%3D?line=0'>1</a>\u001b[0m \u001b[39m#about one hour of computation\u001b[39;00m\n\u001b[1;32m----> <a href='vscode-notebook-cell:/c%3A/Users/jldup/OneDrive/Documents/2A_CS/Projet%20S8/ProjetS8/bootstrap.ipynb#X12sZmlsZQ%3D%3D?line=1'>2</a>\u001b[0m train_nsq_syn_list \u001b[39m=\u001b[39m bootsrap_nsq_syn_list(train_X, explainer,sample_size\u001b[39m=\u001b[39m\u001b[39m100\u001b[39m)\n",
                        "\u001b[1;31mNameError\u001b[0m: name 'train_X' is not defined"
                    ]
                }
            ],
            "execution_count": null,
            "metadata": {},
            "outputs": [],
            "source": [
                "train_nsq_syn_list = bootsrap_nsq_syn_list(train_X, explainer,sample_size=100)"
            ]
        },
        {
            "cell_type": "code",
            "execution_count": 6,
            "metadata": {},
            "outputs": [],
            "source": [
                "def plot_nsq_distribution_train(i, j, zero=True, fit_norm=True):\n",
                "    \n",
                "    train_nsq_syn_list = np.load('Save_arrays/train_nsq_syn_list.npy')\n",
                "    plt.hist(train_nsq_syn_list[:, i, j], bins='auto', density=True)\n",
                "    plt.title('Distribution of the non-squared synergy for features x{} and x{}'.format(i+1, j+1))\n",
                "\n",
                "    if zero:\n",
                "        plt.plot((0,0),(0,5))\n",
                "\n",
                "    if fit_norm:\n",
                "        mu, std = st.norm.fit(train_nsq_syn_list[:, i, j])\n",
                "        xmin, xmax = plt.xlim()\n",
                "\n",
                "    x = np.linspace(xmin, xmax, 100)\n",
                "    p = st.norm.pdf(x, mu, std)\n",
                "    plt.plot(x, p, 'k', linewidth=2)\n",
                "\n",
                "    return"
            ]
        },
        {
            "cell_type": "code",
            "execution_count": 7,
            "metadata": {},
            "outputs": [
                {
                    "data": {
                        "image/png": "[encoded data removed]",
                        "text/plain": [
                            "<Figure size 432x288 with 1 Axes>"
                        ]
                    },
                    "metadata": {
                        "needs_background": "light"
                    },
                    "output_type": "display_data"
                }
            ],
            "source": [
                "plot_nsq_distribution_train(0, 1, zero=False)"
            ]
        },
        {
            "cell_type": "code",
            "execution_count": 8,
            "metadata": {},
            "outputs": [
                {
                    "data": {
                        "image/png": "[encoded data removed]",
                        "text/plain": [
                            "<Figure size 432x288 with 1 Axes>"
                        ]
                    },
                    "metadata": {
                        "needs_background": "light"
                    },
                    "output_type": "display_data"
                }
            ],
            "source": [
                "plot_nsq_distribution_train(1, 3)"
            ]
        },
        {
            "attachments": {},
            "cell_type": "markdown",
            "metadata": {},
            "source": [
                "P-VALUE"
            ]
        },
        {
            "cell_type": "code",
            "execution_count": 43,
            "metadata": {},
            "outputs": [],
            "source": [
                "train_nsq_syn_list = np.load('Save_arrays/train_nsq_syn_list.npy')\n",
                "pvalues = np.asarray([[pvalue0(train_nsq_syn_list[:, i, j]) for j in range(5)] for i in range(5)])\n",
                "for i in range(5):\n",
                "    pvalues[i, i]=None\n"
            ]
        },
        {
            "cell_type": "code",
            "execution_count": 10,
            "metadata": {},
            "outputs": [
                {
                    "data": {
                        "text/plain": [
                            "array([[      nan, 0.000e+00, 0.000e+00, 4.114e-01, 4.506e-01],\n",
                            "       [0.000e+00,       nan, 1.000e-04, 2.372e-01, 3.837e-01],\n",
                            "       [0.000e+00, 0.000e+00,       nan, 2.816e-01, 4.504e-01],\n",
                            "       [6.180e-02, 3.390e-02, 4.990e-02,       nan, 3.065e-01],\n",
                            "       [4.060e-02, 6.410e-02, 5.040e-02, 1.778e-01,       nan]])"
                        ]
                    },
                    "execution_count": 10,
                    "metadata": {},
                    "output_type": "execute_result"
                }
            ],
            "source": [
                "pvalues"
            ]
        },
        {
            "cell_type": "code",
            "execution_count": 6,
            "metadata": {},
            "outputs": [],
            "source": [
                "def pvalue(distribution):\n",
                "    return st.norm.cdf(0,np.mean(distribution),np.std(distribution))"
            ]
        },
        {
            "cell_type": "code",
            "execution_count": null,
            "metadata": {},
            "outputs": [],
            "source": []
        },
        {
            "cell_type": "markdown",
            "metadata": {},
            "source": [
                "STANDARD MODEL"
            ]
        },
        {
            "cell_type": "code",
            "execution_count": 32,
            "metadata": {},
            "outputs": [],
            "source": [
                "shap_values = np.load('Save_arrays/shap_vals_train.npy')\n",
                "shap_interaction_values = np.load('Save_arrays/shap_vals_int_train.npy')\n",
                "\n",
                "train_nsq_syn_list=[]\n",
                "\n",
                "for _ in range(10000):\n",
                "\n",
                "\n",
                "    indices =  np.random.choice(7500,size=100)\n",
                "    new_shap,new_inter=[],[]\n",
                "    for i in indices:\n",
                "        new_shap.append(shap_values[i])\n",
                "        new_inter.append(shap_interaction_values[i])\n",
                "\n",
                "    new_shap=np.asarray(new_shap)\n",
                "    new_inter=np.asarray(new_inter)\n",
                "    nsq_syn_matrix=np.zeros((5,5))\n",
                "    \n",
                "\n",
                "    for j in range(5):\n",
                "        for i in range(5):\n",
                "            pi = new_shap[:,i]\n",
                "            pij = new_inter[:,i,j]\n",
                "\n",
                "\n",
                "            nsq_syn_matrix[j,i]=np.inner(pi,pij)/(np.linalg.norm(pi)*(np.linalg.norm(pij)))\n",
                "    \n",
                "    \n",
                "    train_nsq_syn_list.append(nsq_syn_matrix)\n",
                "\n",
                "train_nsq_syn_list=np.asarray(train_nsq_syn_list)\n"
            ]
        },
        {
            "cell_type": "code",
            "execution_count": 33,
            "metadata": {},
            "outputs": [],
            "source": [
                "def plot_nsq_distribution_train2(i,j,nsq_syn_list,zero=True,fit_norm=True):\n",
                "    train_nsq_syn_list = nsq_syn_list\n",
                "    plt.hist(train_nsq_syn_list[:,i,j],bins='auto',density=True)\n",
                "    plt.title('Distribution of the non-squared synergy for features x'+str(i+1)+' and x'+str(j+1))\n",
                "    if zero:\n",
                "        plt.plot((0,0),(0,5))\n",
                "    if fit_norm:\n",
                "        mu,std= st.norm.fit(train_nsq_syn_list[:,i,j])\n",
                "        xmin, xmax = plt.xlim()\n",
                "    x = np.linspace(xmin, xmax, 100)\n",
                "    p = st.norm.pdf(x, mu, std)\n",
                "    plt.plot(x, p, 'k', linewidth=2)\n",
                "\n",
                "    \n",
                "    return"
            ]
        },
        {
            "cell_type": "code",
            "execution_count": 34,
            "metadata": {},
            "outputs": [
                {
                    "data": {
                        "image/png": "[encoded data removed]",
                        "text/plain": [
                            "<Figure size 432x288 with 1 Axes>"
                        ]
                    },
                    "metadata": {
                        "needs_background": "light"
                    },
                    "output_type": "display_data"
                }
            ],
            "source": [
                "plot_nsq_distribution_train2(0,4,train_nsq_syn_list,zero=True,fit_norm=True)"
            ]
        },
        {
            "cell_type": "code",
            "execution_count": 35,
            "metadata": {},
            "outputs": [],
            "source": [
                "pvalues = np.asarray([[pvalue0(train_nsq_syn_list[:,i,j]) for j in range(5)] for i in range(5)])\n",
                "for i in range(5):\n",
                "    pvalues[i,i]=None"
            ]
        },
        {
            "cell_type": "code",
            "execution_count": 36,
            "metadata": {},
            "outputs": [
                {
                    "data": {
                        "text/plain": [
                            "array([[   nan, 0.    , 0.    , 0.3792, 0.3204],\n",
                            "       [0.    ,    nan, 0.    , 0.4038, 0.4743],\n",
                            "       [0.    , 0.    ,    nan, 0.2427, 0.3723],\n",
                            "       [0.0436, 0.0401, 0.0377,    nan, 0.341 ],\n",
                            "       [0.0525, 0.0635, 0.0402, 0.2055,    nan]])"
                        ]
                    },
                    "execution_count": 36,
                    "metadata": {},
                    "output_type": "execute_result"
                }
            ],
            "source": [
                "pvalues"
            ]
        },
        {
            "cell_type": "markdown",
            "metadata": {},
            "source": [
                "ANALYTICAL"
            ]
        },
        {
            "cell_type": "code",
            "execution_count": 37,
            "metadata": {},
            "outputs": [],
            "source": [
                "shap_values = np.load('Save_arrays/shap_vals_train.npy')\n",
                "shap_interaction_values = np.load('Save_arrays/shap_vals_int_train.npy')\n",
                "big_shap_values = np.repeat(shap_values[:,:,np.newaxis],len(shap_values[0]),axis=2)\n",
                "train_prods = big_shap_values*shap_interaction_values"
            ]
        },
        {
            "cell_type": "code",
            "execution_count": 38,
            "metadata": {},
            "outputs": [],
            "source": [
                "train_mean_prods = np.mean(train_prods,axis=0)\n",
                "train_std_prods = np.std(train_prods,axis=0)"
            ]
        },
        {
            "cell_type": "code",
            "execution_count": 41,
            "metadata": {},
            "outputs": [],
            "source": [
                "pvalues_an = [[st.norm.cdf(0,train_mean_prods[i,j]*100,train_std_prods[i,j]*10) for i in range(5)] for j in range(5)]"
            ]
        },
        {
            "cell_type": "code",
            "execution_count": 42,
            "metadata": {},
            "outputs": [
                {
                    "data": {
                        "text/plain": [
                            "[[0.989920650138652,\n",
                            "  1.3764934119497478e-14,\n",
                            "  5.3616503042170195e-14,\n",
                            "  0.3832279840959389,\n",
                            "  0.3262198215967248],\n",
                            " [1.4555130666861136e-14,\n",
                            "  0.9987583425453402,\n",
                            "  0.00014046737087650986,\n",
                            "  0.3990179738356891,\n",
                            "  0.4722583803695009],\n",
                            " [5.913694944451652e-14,\n",
                            "  8.929385819908709e-05,\n",
                            "  0.9978761573402445,\n",
                            "  0.23109934407605842,\n",
                            "  0.373758002498935],\n",
                            " [0.0490539274956478,\n",
                            "  0.05304926077395535,\n",
                            "  0.04530469289184194,\n",
                            "  4.389063915202416e-29,\n",
                            "  0.3368649828856568],\n",
                            " [0.057267185422041046,\n",
                            "  0.07188190658506376,\n",
                            "  0.050437565171617564,\n",
                            "  0.20850175762219303,\n",
                            "  8.929133129420552e-29]]"
                        ]
                    },
                    "execution_count": 42,
                    "metadata": {},
                    "output_type": "execute_result"
                }
            ],
            "source": [
                "pvalues_an"
            ]
        }
    ],
    "metadata": {
        "kernelspec": {
            "display_name": "Python 3",
            "language": "python",
            "name": "python3"
        },
        "language_info": {
            "codemirror_mode": {
                "name": "ipython",
                "version": 3
            },
            "file_extension": ".py",
            "mimetype": "text/x-python",
            "name": "python",
            "nbconvert_exporter": "python",
            "pygments_lexer": "ipython3",
            "version": "3.6.13"
        },
        "orig_nbformat": 4,
        "vscode": {
            "interpreter": {
                "hash": "5fbb2e196f5a3227e57ddae5ea49fecec031a2cbd50022e4f08bf8badedea67d"
            }
        }
    },
    "nbformat": 4,
    "nbformat_minor": 2
}